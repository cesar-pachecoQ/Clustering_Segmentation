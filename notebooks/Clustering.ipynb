{
 "cells": [
  {
   "cell_type": "code",
   "execution_count": null,
   "id": "e6b3786f",
   "metadata": {},
   "outputs": [],
   "source": [
    "# === Celda 1: Importar librerías ===\n",
    "import numpy as np\n",
    "import pandas as pd\n",
    "import datetime\n",
    "import matplotlib\n",
    "import matplotlib.pyplot as plt\n",
    "from matplotlib import colors\n",
    "import seaborn as sns\n",
    "\n",
    "from sklearn.preprocessing import LabelEncoder, StandardScaler\n",
    "from sklearn.decomposition import PCA\n",
    "from yellowbrick.cluster import KElbowVisualizer\n",
    "from sklearn.cluster import KMeans, AgglomerativeClustering\n",
    "from sklearn import metrics\n",
    "\n",
    "from mpl_toolkits.mplot3d import Axes3D\n",
    "from matplotlib.colors import ListedColormap\n",
    "\n",
    "import warnings\n",
    "import sys\n",
    "\n",
    "# Suprimir warnings y fijar semilla\n",
    "if not sys.warnoptions:\n",
    "    warnings.simplefilter(\"ignore\")\n",
    "np.random.seed(42)\n"
   ]
  },
  {
   "cell_type": "code",
   "execution_count": null,
   "id": "85910fe6",
   "metadata": {},
   "outputs": [],
   "source": [
    "# === Celda 2: Descargar el dataset desde KaggleHub ===\n",
    "import kagglehub\n",
    "\n",
    "# Download latest version\n",
    "path = kagglehub.dataset_download(\"imakash3011/customer-personality-analysis\")\n",
    "\n",
    "print(\"Path to dataset files:\", path)\n"
   ]
  },
  {
   "cell_type": "code",
   "execution_count": null,
   "id": "bde91c8e",
   "metadata": {},
   "outputs": [],
   "source": [
    "# === Celda 3: Cargar el dataset ===\n",
    "data = pd.read_csv('/home/cesar_unix/.cache/kagglehub/datasets/imakash3011/customer-personality-analysis/versions/1/marketing_campaign.csv', sep='\\t')\n",
    "\n",
    "data.head()"
   ]
  },
  {
   "cell_type": "code",
   "execution_count": null,
   "id": "ac2c0452",
   "metadata": {},
   "outputs": [],
   "source": [
    "data.info()"
   ]
  },
  {
   "cell_type": "code",
   "execution_count": null,
   "id": "badb2f81",
   "metadata": {},
   "outputs": [],
   "source": [
    "# === Limpieza de datos ===\n",
    "# Eliminar valores nulos\n",
    "data = data.dropna()\n",
    "len(data)"
   ]
  },
  {
   "cell_type": "code",
   "execution_count": null,
   "id": "928a83d5",
   "metadata": {},
   "outputs": [],
   "source": [
    "#Modificar el formato de las fechas\n",
    "data['Dt_Customer'] =pd.to_datetime(data['Dt_Customer'], format='mixed')\n",
    "fechas = []\n",
    "for i in data['Dt_Customer']:\n",
    "    i = i.date()\n",
    "    fechas.append(i)\n",
    "dias = []\n",
    "d1 = max(fechas)\n",
    "for i in fechas:\n",
    "    delta = d1 - i\n",
    "    dias.append(delta)\n",
    "data['Customer_For']=dias\n",
    "data['Costumer_For'] = pd.to_numeric(data['Customer_For'], errors='coerce')\n"
   ]
  },
  {
   "cell_type": "markdown",
   "id": "81a345b0",
   "metadata": {},
   "source": [
    "* Extraer la **Edad** de un cliente a partir del **Año_Nacimiento**, que indica el año de nacimiento de la persona  \n",
    "* Crear otra característica **Gastado** que indique la cantidad total gastada por el cliente en varias categorías durante un período de dos años.  \n",
    "* Crear otra característica **Viviendo_Con** a partir de **Estado_Civil** para extraer la situación de convivencia de las parejas.  \n",
    "* Crear una característica **Hijos** para indicar el número total de hijos en un hogar, es decir, niños y adolescentes.  \n",
    "* Para obtener más claridad sobre el hogar, crear una característica que indique el **Tamaño_Familiar**.  \n",
    "* Crear una característica **Es_Padre** para indicar el estado de paternidad.  \n",
    "* Eliminar algunas de las características redundantes.  \n"
   ]
  },
  {
   "cell_type": "code",
   "execution_count": null,
   "id": "5705903d",
   "metadata": {},
   "outputs": [],
   "source": [
    "# === Celda: Generación de nuevas características y limpieza ===\n",
    "# Edad del cliente\n",
    "data[\"Age\"] = 2021 - data[\"Year_Birth\"]\n",
    "\n",
    "# Gasto total en los últimos dos años\n",
    "data[\"spent\"] = (\n",
    "    data[\"MntWines\"]\n",
    "    + data[\"MntFruits\"]\n",
    "    + data[\"MntMeatProducts\"]\n",
    "    + data[\"MntFishProducts\"]\n",
    "    + data[\"MntSweetProducts\"]\n",
    "    + data[\"MntGoldProds\"]\n",
    ")\n",
    "\n",
    "# Situación de convivencia\n",
    "data[\"Living_with\"] = data[\"Marital_Status\"].replace({\n",
    "    \"Married\": \"Partner\",\n",
    "    \"Together\": \"Partner\",\n",
    "    \"Absurd\": \"Alone\",\n",
    "    \"Widow\": \"Alone\",\n",
    "    \"YOLO\": \"Alone\",\n",
    "    \"Divorced\": \"Alone\",\n",
    "    \"Single\": \"Alone\",\n",
    "})\n",
    "\n",
    "# Número de hijos (niños + adolescentes)\n",
    "data[\"Children\"] = data[\"Kidhome\"] + data[\"Teenhome\"]\n",
    "\n",
    "# Tamaño familiar: 1 si vive solo, 2 si vive en pareja, más hijos\n",
    "data[\"Family_Size\"] = (\n",
    "    data[\"Living_with\"].replace({\"Alone\": 1, \"Partner\": 2})\n",
    "    + data[\"Children\"]\n",
    ")\n",
    "\n",
    "# Indicador de paternidad/maternidad\n",
    "data[\"Is_Parent\"] = np.where(data[\"Children\"] > 0, 1, 0)\n",
    "\n",
    "# Simplificación de niveles educativos\n",
    "data[\"Education\"] = data[\"Education\"].replace({\n",
    "    \"Basic\": \"Undergraduate\",\n",
    "    \"2n Cycle\": \"Undergraduate\",\n",
    "    \"Graduation\": \"Graduate\",\n",
    "    \"Master\": \"Postgraduate\",\n",
    "    \"PhD\": \"Postgraduate\",\n",
    "})\n",
    "\n",
    "# Renombrar columnas para mayor claridad\n",
    "data = data.rename(columns={\n",
    "    \"MntWines\": \"Wines\",\n",
    "    \"MntFruits\": \"Fruits\",\n",
    "    \"MntMeatProducts\": \"Meat\",\n",
    "    \"MntFishProducts\": \"Fish\",\n",
    "    \"MntSweetProducts\": \"Sweets\",\n",
    "    \"MntGoldProds\": \"Gold\"\n",
    "})\n",
    "\n",
    "# Eliminar columnas redundantes\n",
    "to_drop = [\n",
    "    \"Marital_Status\",\n",
    "    \"Dt_Customer\",\n",
    "    \"Z_CostContact\",\n",
    "    \"Z_Revenue\",\n",
    "    \"Year_Birth\",\n",
    "    \"ID\"\n",
    "]\n",
    "data = data.drop(to_drop, axis=1)\n"
   ]
  },
  {
   "cell_type": "code",
   "execution_count": null,
   "id": "e6c56f21",
   "metadata": {},
   "outputs": [],
   "source": [
    "data.describe()"
   ]
  },
  {
   "cell_type": "code",
   "execution_count": null,
   "id": "2227fae1",
   "metadata": {},
   "outputs": [],
   "source": [
    "# === Celda: Visualización de relaciones entre variables ===\n",
    "Columnas = [\"Income\", \"Recency\", \"Customer_For\", \"Age\", \"spent\", \"Is_Parent\"]\n",
    "plt.figure()\n",
    "sns.pairplot(data[Columnas], hue=\"Is_Parent\")\n",
    "plt.show()\n"
   ]
  },
  {
   "cell_type": "code",
   "execution_count": null,
   "id": "e766111c",
   "metadata": {},
   "outputs": [],
   "source": [
    "# === Celda: Limpieza de datos y matriz de correlación ===\n",
    "# Limpiar datos de edad e ingreso fuera de rango\n",
    "data = data[data[\"Age\"] < 90]\n",
    "data = data[data[\"Income\"] < 600000]"
   ]
  },
  {
   "cell_type": "code",
   "execution_count": null,
   "id": "c572e9bd",
   "metadata": {},
   "outputs": [],
   "source": [
    "\n",
    "# Matriz de correlación\n",
    "corrmat = data.select_dtypes(include=np.number).corr()\n",
    "plt.figure(figsize=(20, 20))\n",
    "sns.heatmap(corrmat, annot=True, cmap=None, center=0)\n",
    "plt.show()\n"
   ]
  },
  {
   "cell_type": "code",
   "execution_count": null,
   "id": "6983c101",
   "metadata": {},
   "outputs": [],
   "source": [
    "#Obtener  categorias que no son numéricas y pasarlas a numéricas\n",
    "s = (data.dtypes == 'object')\n",
    "object_cols = list(s[s].index)\n",
    "\n",
    "print('Ctaergorías no numéricas:', object_cols)\n",
    "LE= LabelEncoder()\n",
    "#for i in object_cols:\n",
    " #   data[i] = LE.fit_transform(data[i])\n",
    "for i in data.columns:\n",
    "    data[i] = data[[i]].apply(LE.fit_transform)"
   ]
  },
  {
   "cell_type": "code",
   "execution_count": null,
   "id": "c2f1b942",
   "metadata": {},
   "outputs": [],
   "source": [
    "#Normalizar los datos\n",
    "ds = data.copy()\n",
    "cols_del = ['AcceptedCmp3','AcceptedCmp4','AcceptedCmp5','AcceptedCmp1','AcceptedCmp2','Complain','Response']\n",
    "ds = ds.drop(cols_del, axis=1)\n",
    "scaler = StandardScaler()\n",
    "scaler.fit(ds)\n",
    "scaled_ds = pd.DataFrame(scaler.transform(ds), columns=ds.columns)\n"
   ]
  },
  {
   "cell_type": "code",
   "execution_count": null,
   "id": "2cec7bfa",
   "metadata": {},
   "outputs": [],
   "source": [
    "scaled_ds.head()"
   ]
  },
  {
   "cell_type": "code",
   "execution_count": null,
   "id": "b03a86ca",
   "metadata": {},
   "outputs": [],
   "source": [
    "#Usar PCA para reducir la dimensionalidad a 3 dimensiones\n",
    "pca = PCA(n_components=3)\n",
    "pca.fit(scaled_ds)\n",
    "PCA_ds = pd.DataFrame(pca.transform(scaled_ds), columns=['col1', 'col2', 'col3'])\n",
    "PCA_ds.describe().T"
   ]
  },
  {
   "cell_type": "code",
   "execution_count": null,
   "id": "86e43e3c",
   "metadata": {},
   "outputs": [],
   "source": [
    "X = PCA_ds['col1']\n",
    "Y = PCA_ds['col2']\n",
    "Z = PCA_ds['col3']\n",
    "fig = plt.figure(figsize=(10, 8))\n",
    "ax = fig.add_subplot(111, projection='3d')\n",
    "ax.scatter(X, Y, Z, c='blue', marker='o')\n",
    "plt.show()"
   ]
  },
  {
   "cell_type": "code",
   "execution_count": null,
   "id": "942527f0",
   "metadata": {},
   "outputs": [],
   "source": [
    "#Metodo del codo para dterminar el número de clusters\n",
    "Elbow_M = KElbowVisualizer(KMeans(), k=(1, 10))\n",
    "Elbow_M.fit(PCA_ds)\n",
    "Elbow_M.show()"
   ]
  },
  {
   "cell_type": "code",
   "execution_count": null,
   "id": "4ef3fa47",
   "metadata": {},
   "outputs": [],
   "source": [
    "#Crear el numero de clusters\n",
    "AC = AgglomerativeClustering(n_clusters=4)\n",
    "yhat_AC = AC.fit_predict(PCA_ds)\n",
    "PCA_ds['Cluster'] = yhat_AC\n",
    "data['Cluster'] = yhat_AC"
   ]
  },
  {
   "cell_type": "code",
   "execution_count": null,
   "id": "db9a0ddd",
   "metadata": {},
   "outputs": [],
   "source": [
    "colors = ['red', 'green', 'blue', 'yellow']\n",
    "cmap = ListedColormap(colors)\n",
    "fig = plt.figure(figsize=(10, 8))\n",
    "ax = plt.subplot(111, projection='3d', label='bla')\n",
    "ax.scatter(X,Y,Z, s = 40, c = PCA_ds['Cluster'], marker='o', cmap=cmap)\n",
    "plt.show()"
   ]
  },
  {
   "cell_type": "code",
   "execution_count": null,
   "id": "3f5c68ac",
   "metadata": {},
   "outputs": [],
   "source": [
    "#Evaluar los datos\n",
    "pl = sns.countplot(x=data['Cluster'], palette=colors)\n",
    "plt.title('Distribución de los clusters')\n",
    "plt.show()"
   ]
  },
  {
   "cell_type": "code",
   "execution_count": null,
   "id": "980a327b",
   "metadata": {},
   "outputs": [],
   "source": [
    "pl=sns.scatterplot(data = data, x=data[\"spent\"], y=data[\"Income\"], hue=data[\"Cluster\"], palette=colors)\n",
    "plt.legend()\n",
    "plt.show()\n"
   ]
  },
  {
   "cell_type": "markdown",
   "id": "a1bbb81d",
   "metadata": {},
   "source": [
    "* grupo 0: gastos medio e ingresos medios\n",
    "* grupo 1: gastos altos e ingresos altos\n",
    "* grupo 2: gastos bajos e ingresos bajos\n",
    "* grupo 3: gastos medio e ingresos bajos"
   ]
  },
  {
   "cell_type": "code",
   "execution_count": null,
   "id": "a8082f09",
   "metadata": {},
   "outputs": [],
   "source": [
    "plt.figure()\n",
    "pl = sns.boxplot(x=data['Cluster'], y=data['spent'], palette=colors)\n",
    "plt.show()"
   ]
  },
  {
   "cell_type": "code",
   "execution_count": null,
   "id": "c8a1bb48",
   "metadata": {},
   "outputs": [],
   "source": [
    "data['Total_Promos'] = data['AcceptedCmp1'] + data['AcceptedCmp2'] + data['AcceptedCmp3'] + data['AcceptedCmp4'] + data['AcceptedCmp5']\n",
    "plt.figure()\n",
    "pl = sns.countplot(x=data['Total_Promos'], hue=data['Cluster'], palette=colors)\n",
    "pl.set_xlabel('Numero de promociones aceptadas')\n",
    "plt.show()"
   ]
  },
  {
   "cell_type": "code",
   "execution_count": null,
   "id": "425de342",
   "metadata": {},
   "outputs": [],
   "source": [
    "#mostrar el numero de ofertas\n",
    "plt.figure()\n",
    "pl = sns.boxplot(y=data['NumDealsPurchases'], x =data['Cluster'], palette=colors)\n",
    "plt.show()"
   ]
  }
 ],
 "metadata": {
  "kernelspec": {
   "display_name": "DataScience",
   "language": "python",
   "name": "python3"
  },
  "language_info": {
   "codemirror_mode": {
    "name": "ipython",
    "version": 3
   },
   "file_extension": ".py",
   "mimetype": "text/x-python",
   "name": "python",
   "nbconvert_exporter": "python",
   "pygments_lexer": "ipython3",
   "version": "3.11.2"
  }
 },
 "nbformat": 4,
 "nbformat_minor": 5
}
